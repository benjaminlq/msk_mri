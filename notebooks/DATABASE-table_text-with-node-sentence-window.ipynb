{
 "cells": [
  {
   "cell_type": "markdown",
   "metadata": {},
   "source": [
    "# Import Packages"
   ]
  },
  {
   "cell_type": "code",
   "execution_count": 48,
   "metadata": {},
   "outputs": [],
   "source": [
    "import os\n",
    "import json\n",
    "import sys\n",
    "import logging\n",
    "import openai\n",
    "import tiktoken\n",
    "__import__('pysqlite3')\n",
    "import sys\n",
    "sys.modules['sqlite3'] = sys.modules.pop('pysqlite3')\n",
    "from typing import Union, Dict, List, Callable\n",
    "\n",
    "import chromadb\n",
    "from llama_index import get_response_synthesizer\n",
    "from llama_index import ServiceContext, VectorStoreIndex\n",
    "from llama_index.embeddings import OpenAIEmbedding\n",
    "from llama_index.indices.postprocessor import MetadataReplacementPostProcessor\n",
    "from llama_index.node_parser import SentenceWindowNodeParser\n",
    "\n",
    "from llama_index.schema import MetadataMode, NodeWithScore, Document\n",
    "from llama_index.storage import StorageContext\n",
    "from llama_index.vector_stores import ChromaVectorStore\n",
    "\n",
    "from custom import CustomRetrieverQueryEngine, CustomCombinedRetriever\n",
    "from utils import generate_vectorindex\n",
    "from utils import load_vectorindex\n",
    "\n",
    "logging.basicConfig(stream=sys.stdout, level=logging.INFO)\n",
    "openai.log = \"info\""
   ]
  },
  {
   "cell_type": "code",
   "execution_count": 2,
   "metadata": {},
   "outputs": [],
   "source": [
    "MAIN_DIR = \"..\"\n",
    "DATA_DIR = os.path.join(MAIN_DIR, \"data\")\n",
    "DOCUMENT_DIR = os.path.join(MAIN_DIR, \"data\", \"document_sources\")\n",
    "EXCLUDE_DICT = os.path.join(DATA_DIR, \"exclude_pages.json\")\n",
    "\n",
    "with open(os.path.join(MAIN_DIR, \"auth\", \"api_keys.json\"), \"r\") as f:\n",
    "    api_keys = json.load(f)\n",
    "\n",
    "os.environ[\"OPENAI_API_KEY\"] = api_keys[\"OPENAI_API_KEY\"]\n",
    "openai.api_key = api_keys[\"OPENAI_API_KEY\"]"
   ]
  },
  {
   "cell_type": "code",
   "execution_count": 3,
   "metadata": {},
   "outputs": [],
   "source": [
    "def convert_prompt_to_string(prompt) -> str:\n",
    "    return prompt.format(**{v: v for v in prompt.template_vars})\n",
    "\n",
    "def generate_query(profile: str, scan: str):\n",
    "    return \"Patient Profile: {}\\nScan ordered: {}\".format(profile, scan)\n",
    "\n",
    "def convert_doc_to_dict(doc: Union[Document, NodeWithScore, Dict]) -> Dict:\n",
    "    if isinstance(doc, NodeWithScore):\n",
    "        json_doc = {\n",
    "            \"page_content\": doc.text,\n",
    "            \"metadata\": doc.metadata,\n",
    "            \"score\": doc.score\n",
    "            } \n",
    "    elif isinstance(doc, Document):\n",
    "        json_doc = {\n",
    "            \"page_content\": doc.text,\n",
    "            \"metadata\": doc.metadata,\n",
    "            \"score\": \"\"\n",
    "            }\n",
    "    elif isinstance(doc, Dict):\n",
    "        json_doc = {\n",
    "            \"page_content\": doc[\"text\"],\n",
    "            \"metadata\": doc[\"metadata\"],\n",
    "            \"score\": \"None\"\n",
    "        }\n",
    "    return json_doc\n",
    "\n",
    "def get_experiment_logs(description: str, log_folder: str):\n",
    "    logger = logging.getLogger(description)\n",
    "\n",
    "    stream_handler = logging.StreamHandler(sys.stdout)\n",
    "\n",
    "    if not os.path.exists(log_folder):\n",
    "        os.makedirs(log_folder, exist_ok=True)\n",
    "\n",
    "    file_handler = logging.FileHandler(filename=os.path.join(log_folder, \"logfile.log\"))\n",
    "\n",
    "    formatter = logging.Formatter(\"%(asctime)s:%(levelname)s: %(message)s\")\n",
    "    file_handler.setFormatter(formatter)\n",
    "    stream_handler.setFormatter(formatter)\n",
    "\n",
    "    logger.setLevel(logging.INFO)\n",
    "    logger.addHandler(stream_handler)\n",
    "    logger.addHandler(file_handler)\n",
    "    \n",
    "    return logger\n",
    "\n",
    "def filter_by_pages(\n",
    "    doc_list: List[Document],\n",
    "    exclude_info: Dict[str, List]\n",
    ") -> List[Document]:\n",
    "    filtered_list = []\n",
    "    for doc in doc_list:\n",
    "        file_name = doc.metadata[\"file_name\"]\n",
    "        page = doc.metadata[\"page_label\"]\n",
    "        if file_name not in exclude_info.keys():\n",
    "            filtered_list.append(doc)\n",
    "            continue\n",
    "        if int(page) not in exclude_info[file_name]:\n",
    "            filtered_list.append(doc)\n",
    "\n",
    "    return filtered_list\n",
    "\n",
    "def count_tokens(\n",
    "    text: str,\n",
    "    tokenizer: Callable = tiktoken.encoding_for_model(\"gpt-3.5-turbo\")\n",
    "):\n",
    "    tokens_sequence = tokenizer.encode(text)\n",
    "    return len(tokens_sequence)"
   ]
  },
  {
   "cell_type": "markdown",
   "metadata": {},
   "source": [
    "# Prepare Documents"
   ]
  },
  {
   "cell_type": "code",
   "execution_count": 21,
   "metadata": {},
   "outputs": [],
   "source": [
    "embed_model = OpenAIEmbedding(embed_batch_size=50)"
   ]
  },
  {
   "cell_type": "code",
   "execution_count": 26,
   "metadata": {},
   "outputs": [],
   "source": [
    "emb_database_path = os.path.join(DATA_DIR, \"emb_store\")\n",
    "\n",
    "with open(os.path.join(emb_database_path, \"tables.json\"), \"r\") as f:\n",
    "    table_list = json.load(f)\n",
    "\n",
    "with open(os.path.join(emb_database_path, \"texts.json\"), \"r\") as f:\n",
    "    text_list = json.load(f)\n",
    "\n",
    "table_docs = []\n",
    "for table in table_list:\n",
    "    table[\"metadata\"][\"mode\"] = \"tabular\"\n",
    "    doc = Document(\n",
    "        text=table[\"text\"],\n",
    "        metadata=table[\"metadata\"],\n",
    "        excluded_embed_metadata_keys = ['file_name', 'page_label', 'variant', 'mode'],\n",
    "        excluded_llm_metadata_keys = ['file_name', 'page_label', 'variant']\n",
    "        )\n",
    "    table_docs.append(doc)\n",
    "\n",
    "description_texts = [doc.get_metadata_str(mode=MetadataMode.EMBED) for doc in table_docs]\n",
    "description_embs = embed_model.get_text_embedding_batch(description_texts)\n",
    "\n",
    "for doc, emb in zip(table_docs, description_embs):\n",
    "    doc.embedding = emb\n",
    "    \n",
    "text_docs = []\n",
    "for text in text_list:\n",
    "    text[\"metadata\"][\"mode\"] = \"text\"\n",
    "    doc = Document(\n",
    "        text=text[\"text\"],\n",
    "        metadata=text[\"metadata\"],\n",
    "        excluded_embed_metadata_keys = ['file_name', 'page_label', 'variant', 'mode'],\n",
    "        excluded_llm_metadata_keys = ['file_name', 'page_label', 'variant']\n",
    "        )\n",
    "    text_docs.append(doc)"
   ]
  },
  {
   "cell_type": "markdown",
   "metadata": {},
   "source": [
    "# Create Vectorstore"
   ]
  },
  {
   "cell_type": "code",
   "execution_count": 24,
   "metadata": {},
   "outputs": [],
   "source": [
    "multimodal_vector_path = os.path.join(emb_database_path, \"multimodal-chroma-textwindow\")\n",
    "desc_persist_dir = os.path.join(multimodal_vector_path, \"descriptions\")\n",
    "if not os.path.exists(desc_persist_dir):\n",
    "    os.makedirs(desc_persist_dir, exist_ok=True)"
   ]
  },
  {
   "cell_type": "markdown",
   "metadata": {},
   "source": [
    "## Table Store"
   ]
  },
  {
   "cell_type": "code",
   "execution_count": 34,
   "metadata": {},
   "outputs": [
    {
     "name": "stdout",
     "output_type": "stream",
     "text": [
      "2023-11-01 15:30:41,592:INFO: Processing documents from provided list.\n",
      "INFO:config:Processing documents from provided list.\n",
      "2023-11-01 15:30:41,594:INFO: 199 documents remained after page filtering.\n",
      "INFO:config:199 documents remained after page filtering.\n",
      "2023-11-01 15:30:41,596:INFO: Total number of documents to create vector index store: 199\n",
      "INFO:config:Total number of documents to create vector index store: 199\n",
      "2023-11-01 15:30:41,598:INFO: Creating chroma Vectorstore\n",
      "INFO:config:Creating chroma Vectorstore\n",
      "INFO:chromadb.telemetry.posthog:Anonymized telemetry enabled. See https://docs.trychroma.com/telemetry for more information.\n",
      "2023-11-01 15:30:44,069:INFO: Successfully created chroma vectorstore at ../data/multimodal-chroma-textwindow/descriptions/tables\n",
      "INFO:config:Successfully created chroma vectorstore at ../data/multimodal-chroma-textwindow/descriptions/tables\n"
     ]
    }
   ],
   "source": [
    "# Table Index\n",
    "generate_vectorindex(\n",
    "    embeddings=embed_model,\n",
    "    emb_size=1536,\n",
    "    documents=table_docs,\n",
    "    output_directory=os.path.join(desc_persist_dir, \"tables\"),\n",
    "    emb_store_type=\"chroma\",\n",
    "    chunk_size=1024,\n",
    "    chunk_overlap=0,\n",
    "    index_name=\"tables\",\n",
    ")"
   ]
  },
  {
   "cell_type": "markdown",
   "metadata": {},
   "source": [
    "## Text Store\n",
    "\n",
    "Using SentenceWindowNodeParser parser\n",
    "- Embedding content: sentence content\n",
    "- Synthesizing content: Metadata + Window Content (k=5)"
   ]
  },
  {
   "cell_type": "code",
   "execution_count": 40,
   "metadata": {},
   "outputs": [
    {
     "name": "stdout",
     "output_type": "stream",
     "text": [
      "INFO:chromadb.telemetry.posthog:Anonymized telemetry enabled. See https://docs.trychroma.com/telemetry for more information.\n"
     ]
    }
   ],
   "source": [
    "# index_name = \"texts\"\n",
    "# chroma_client = chromadb.PersistentClient(path=os.path.join(desc_persist_dir, \"texts\"))\n",
    "# chroma_collection = chroma_client.get_or_create_collection(index_name)\n",
    "# vector_store = ChromaVectorStore(chroma_collection=chroma_collection)"
   ]
  },
  {
   "cell_type": "code",
   "execution_count": 41,
   "metadata": {},
   "outputs": [],
   "source": [
    "# node_parser = SentenceWindowNodeParser(window_size=5)\n",
    "# service_context = ServiceContext.from_defaults(embed_model=embed_model, node_parser=node_parser)\n",
    "# storage_context = StorageContext.from_defaults(vector_store=vector_store)\n",
    "# vector_index = VectorStoreIndex.from_documents(\n",
    "#     text_docs, storage_context=storage_context, service_context=service_context\n",
    "# )"
   ]
  },
  {
   "cell_type": "markdown",
   "metadata": {},
   "source": [
    "# Load and test"
   ]
  },
  {
   "cell_type": "code",
   "execution_count": 61,
   "metadata": {},
   "outputs": [
    {
     "name": "stdout",
     "output_type": "stream",
     "text": [
      "INFO:chromadb.telemetry.posthog:Anonymized telemetry enabled. See https://docs.trychroma.com/telemetry for more information.\n"
     ]
    },
    {
     "name": "stdout",
     "output_type": "stream",
     "text": [
      "2023-11-01 16:35:28,009:INFO: chroma VectorStore successfully loaded from ../data/multimodal-chroma-textwindow/descriptions/tables.\n",
      "INFO:config:chroma VectorStore successfully loaded from ../data/multimodal-chroma-textwindow/descriptions/tables.\n"
     ]
    }
   ],
   "source": [
    "tables_index = load_vectorindex(\n",
    "    db_directory = os.path.join(desc_persist_dir, \"tables\"),\n",
    "    emb_store_type = \"chroma\", index_name = \"tables\",\n",
    ")\n",
    "\n",
    "table_retriever = tables_index.as_retriever(similarity_top_k=5)"
   ]
  },
  {
   "cell_type": "code",
   "execution_count": 62,
   "metadata": {},
   "outputs": [
    {
     "name": "stdout",
     "output_type": "stream",
     "text": [
      "INFO:chromadb.telemetry.posthog:Anonymized telemetry enabled. See https://docs.trychroma.com/telemetry for more information.\n"
     ]
    },
    {
     "name": "stdout",
     "output_type": "stream",
     "text": [
      "2023-11-01 16:35:29,841:INFO: chroma VectorStore successfully loaded from ../data/multimodal-chroma-textwindow/descriptions/texts.\n",
      "INFO:config:chroma VectorStore successfully loaded from ../data/multimodal-chroma-textwindow/descriptions/texts.\n"
     ]
    }
   ],
   "source": [
    "texts_index = load_vectorindex(\n",
    "    db_directory = os.path.join(desc_persist_dir, \"texts\"),\n",
    "    emb_store_type = \"chroma\", index_name = \"texts\",\n",
    ")\n",
    "\n",
    "text_retriever = texts_index.as_retriever(similarity_top_k=5)"
   ]
  },
  {
   "cell_type": "code",
   "execution_count": 63,
   "metadata": {},
   "outputs": [],
   "source": [
    "combined_retriever = CustomCombinedRetriever(\n",
    "    table_retriever=table_retriever,\n",
    "    text_retriever=text_retriever,\n",
    "    token_limit = 7000\n",
    ")\n",
    "\n",
    "retriever_query_engine = CustomRetrieverQueryEngine(\n",
    "    retriever=combined_retriever,\n",
    "    response_synthesizer=get_response_synthesizer(),\n",
    "    node_postprocessors=[\n",
    "        MetadataReplacementPostProcessor(target_metadata_key=\"window\")\n",
    "    ]\n",
    ")"
   ]
  },
  {
   "cell_type": "code",
   "execution_count": 64,
   "metadata": {},
   "outputs": [],
   "source": [
    "sample_query = \"\"\"Patient profile: Patient age: 68 Sex: Male. Chief complaint: Severe pain in the left hip after a fall. The patient fell down from the stairs while carrying groceries. He has a history of osteoporosis and takes medication for high blood pressure. The patient is unable to bear weight on the left leg and has severe pain in the left hip. There is no visible deformity, but there is tenderness in the left hip region. \n",
    "Scan Order: X-ray pelvis and left hip\"\"\"\n",
    "\n",
    "sample_response = retriever_query_engine.query(sample_query)"
   ]
  },
  {
   "cell_type": "code",
   "execution_count": 66,
   "metadata": {},
   "outputs": [
    {
     "name": "stdout",
     "output_type": "stream",
     "text": [
      "\n",
      "description:  Acute hip pain. Fall or minor trauma. Suspect fracture. Initial imaging.\n",
      "condition: acute hip pain suspected fracture\n",
      "mode: tabular\n",
      "\n",
      "| Procedure | Appropriateness Category |\n",
      "|---|---|\n",
      "| Radiography hip | Usually Appropriate |\n",
      "| Radiography pelvis | Usually Appropriate |\n",
      "| Radiography pelvis and hips | Usually Appropriate |\n",
      "| CT pelvis and hips with IV contrast | Usually Not Appropriate |\n",
      "| CT pelvis and hips without and with IV contrast | Usually Not Appropriate |\n",
      "| CT pelvis and hips without IV contrast | Usually Not Appropriate |\n",
      "| MRI pelvis and affected hip without and with IV contrast | Usually Not Appropriate |\n",
      "| MRI pelvis and affected hip without IV contrast | Usually Not Appropriate |\n",
      "| Bone scan hips | Usually Not Appropriate |\n",
      "| US hip | Usually Not Appropriate |\n",
      "\n",
      "description:  Acute hip pain. Fall or minor trauma. Negative radiographs. Suspect fracture. Next imaging study.\n",
      "condition: acute hip pain suspected fracture\n",
      "mode: tabular\n",
      "\n",
      "| Procedure | Appropriateness Category |\n",
      "|---|---|\n",
      "| MRI pelvis and affected hip without IV contrast | Usually Appropriate |\n",
      "| CT pelvis and hips without IV contrast | Usually Appropriate |\n",
      "| CT pelvis and hips with IV contrast | Usually Not Appropriate |\n",
      "| CT pelvis and hips without and with IV contrast | Usually Not Appropriate |\n",
      "| MRI pelvis and affected hip without and with IV contrast | Usually Not Appropriate |\n",
      "| Bone scan hips | Usually Not Appropriate |\n",
      "| US hip | Usually Not Appropriate |\n",
      "\n",
      "description:  Symptomatic hip arthroplasty patient, history of acute injury. Additional imaging following radiographs.\n",
      "condition: imaging after total hip arthroplasty\n",
      "mode: tabular\n",
      "\n",
      "| Procedure | Appropriateness Category |\n",
      "|---|---|\n",
      "| CT hip without IV contrast | Usually Appropriate |\n",
      "| MRI hip without IV contrast | May Be Appropriate |\n",
      "| US hip | Usually Not Appropriate |\n",
      "| Image-guided aspiration hip | Usually Not Appropriate |\n",
      "| MRI hip without and with IV contrast | Usually Not Appropriate |\n",
      "| Bone scan hip | Usually Not Appropriate |\n",
      "| Bone scan with SPECT or SPECT/CT hip | Usually Not Appropriate |\n",
      "| CT hip with IV contrast | Usually Not Appropriate |\n",
      "| CT hip without and with IV contrast | Usually Not Appropriate |\n",
      "| Bone scan and gallium scan hip | Usually Not Appropriate |\n",
      "| Bone scan and gallium scan with SPECT or SPECT/CT hip | Usually Not Appropriate |\n",
      "| FDG-PET/CT skull base to mid-thigh | Usually Not Appropriate |\n",
      "| Fluoride PET/CT skull base to mid-thigh | Usually Not Appropriate |\n",
      "| WBC scan and sulfur colloid scan hip | Usually Not Appropriate |\n",
      "\n",
      "description:  Chronic hip pain. Initial Imaging.\n",
      "condition: chronic hip pain\n",
      "mode: tabular\n",
      "\n",
      "| Procedure | Appropriateness Category |\n",
      "|---|---|\n",
      "| Radiography pelvis | Usually Appropriate |\n",
      "| Radiography hip | Usually Appropriate |\n",
      "| US hip | Usually Not Appropriate |\n",
      "| Image-guided anesthetic +/- corticosteroid injection hip joint or surrounding structures | Usually Not Appropriate |\n",
      "| MR arthrography hip | Usually Not Appropriate |\n",
      "| MRI hip without and with IV contrast | Usually Not Appropriate |\n",
      "| MRI hip without IV contrast | Usually Not Appropriate |\n",
      "| Bone scan hip | Usually Not Appropriate |\n",
      "| CT arthrography hip | Usually Not Appropriate |\n",
      "| CT hip with IV contrast | Usually Not Appropriate |\n",
      "| CT hip without and with IV contrast | Usually Not Appropriate |\n",
      "| CT hip without IV contrast | Usually Not Appropriate |\n",
      "| Fluoride PET/CT skull base to mid-thigh | Usually Not Appropriate |\n",
      "\n",
      "description:  Hip arthroplasty patient with trochanteric pain. Suspect abductor injury, or trochanteric bursitis, or other soft tissue abnormality. Additional imaging following radiographs.\n",
      "condition: imaging after total hip arthroplasty\n",
      "mode: tabular\n",
      "\n",
      "| Procedure | Appropriateness Category |\n",
      "|---|---|\n",
      "| US hip | Usually Appropriate |\n",
      "| MRI hip without IV contrast | Usually Appropriate |\n",
      "| Image-guided anesthetic +/- corticosteroid injection hip joint or surrounding structures | May Be Appropriate |\n",
      "| Radiographic arthrography hip | Usually Not Appropriate |\n",
      "| MRI hip without and with IV contrast | Usually Not Appropriate |\n",
      "| CT hip with IV contrast | Usually Not Appropriate |\n",
      "| CT hip without and with IV contrast | Usually Not Appropriate |\n",
      "| CT hip without IV contrast | Usually Not Appropriate |\n",
      "\n",
      "mode: text\n",
      "condition: acute hip pain suspected fracture\n",
      "\n",
      "With multiple studies indicating near 100% sensitivity for proximal \n",
      "femoral fracture, it has been suggested that a negative MRI may allow for confident discharge from the \n",
      "emergency department and reduce the number of cautionary admissions [23,29] .  Conversely, rapid diagnosis of \n",
      "surgical fractures reduces delay to treatment  with associated improved  outcomes [10]. \n",
      " Several additional studies have also shown  high diagnostic a ccuracy for diagnosis of both pelvis fractures and \n",
      "soft-tissue injuries in addition to fractures of the proximal femur [28,30,39] .  This versatility is important as many \n",
      "series have shown a high incidence of extrafemoral trauma in patients with acute hip pain and negative \n",
      "radiographs.  For exampl e, in the study by Ohishi et al  [30], of 113 patients , 38% had fractures of the proximal \n",
      "femur and 33% had fractures of t he pelvis.   In another retrospective series, Dominguez et al  [21] found pelvic \n",
      "fractures to be more common than proximal femur fractures in this patient population,  emphasizing the \n",
      "importance of accuracy in the assessment of extrafem oral trauma .  Although many of these pelvic fractures and \n",
      "soft-tissue injuries may not be treated surgically , correct diagnosis allows for appropriate conservative treatment , \n",
      "including protected weight -bearing, pain  control, deep vein thrombosis  prophylaxis, and skilled rehabilitation.  \n",
      " In addition to its increased sensitivity for fracture detection, MRI has been shown to be useful in characterizing \n",
      "fracture morpholog y. Seemingly isolated fractures of the greater trochanter diagnosed on radiography frequent ly \n",
      "have intertrochanteric extension when evaluated with MRI [22].  In a classic stud y of 30 patients, Schultz et al  \n",
      "[40] demonstrated the use of MRI to accurately depict the extent of the fracture line in these radiographically \n",
      "occult intertrochanteric fractures.  There is an increasing trend to treat  incomplete intertrochanteric fractur es \n",
      "conservatively .\n",
      "\\Embedded Sentence: In another retrospective series, Dominguez et al  [21] found pelvic \n",
      "fractures to be more common than proximal femur fractures in this patient population,  emphasizing the \n",
      "importance of accuracy in the assessment of extrafem oral trauma . \n",
      "\n",
      "mode: text\n",
      "condition: acute hip pain suspected fracture\n",
      "\n",
      "A 2008 study showed 99% sensitivity of MRI, both for proximal femoral \n",
      "fractures and fractures of the pelvis [39] .  With multiple studies indicating near 100% sensitivity for proximal \n",
      "femoral fracture, it has been suggested that a negative MRI may allow for confident discharge from the \n",
      "emergency department and reduce the number of cautionary admissions [23,29] .  Conversely, rapid diagnosis of \n",
      "surgical fractures reduces delay to treatment  with associated improved  outcomes [10]. \n",
      " Several additional studies have also shown  high diagnostic a ccuracy for diagnosis of both pelvis fractures and \n",
      "soft-tissue injuries in addition to fractures of the proximal femur [28,30,39] .  This versatility is important as many \n",
      "series have shown a high incidence of extrafemoral trauma in patients with acute hip pain and negative \n",
      "radiographs.  For exampl e, in the study by Ohishi et al  [30], of 113 patients , 38% had fractures of the proximal \n",
      "femur and 33% had fractures of t he pelvis.   In another retrospective series, Dominguez et al  [21] found pelvic \n",
      "fractures to be more common than proximal femur fractures in this patient population,  emphasizing the \n",
      "importance of accuracy in the assessment of extrafem oral trauma .  Although many of these pelvic fractures and \n",
      "soft-tissue injuries may not be treated surgically , correct diagnosis allows for appropriate conservative treatment , \n",
      "including protected weight -bearing, pain  control, deep vein thrombosis  prophylaxis, and skilled rehabilitation.  \n",
      " In addition to its increased sensitivity for fracture detection, MRI has been shown to be useful in characterizing \n",
      "fracture morpholog y. Seemingly isolated fractures of the greater trochanter diagnosed on radiography frequent ly \n",
      "have intertrochanteric extension when evaluated with MRI [22].  In a classic stud y of 30 patients, Schultz et al  \n",
      "[40] demonstrated the use of MRI to accurately depict the extent of the fracture line in these radiographically \n",
      "occult intertrochanteric fractures.\n",
      "\\Embedded Sentence: For exampl e, in the study by Ohishi et al  [30], of 113 patients , 38% had fractures of the proximal \n",
      "femur and 33% had fractures of t he pelvis.  \n",
      "\n",
      "mode: text\n",
      "condition: acute hip pain suspected fracture\n",
      "\n",
      "Other studies have had more dra matic results,  with Sankey et al  [25] reporting 83 of 98 \n",
      "patients to have fractures after negative radiographs, 23 of whom required operative management .  The variability  \n",
      "is likely due to differing proportions of patients going on to MRI following negative radiographs in these \n",
      "retrospective studies.   However , there is no accepted clinical decision rule to guide when patients with suspected \n",
      "hip fracture should have advanced imaging after negative radiographs.  A new inability to bear weight is a \n",
      "clinically suspicious finding , although the sensitivity and specificity of this is unknown  [20].  Allowing for \n",
      "variation between studies, the estimated prev alence of occult fracture after negative radiographs has  been \n",
      "estimated  at 4% to 10% , indicating the inability of negative radiographs alone to exclude fracture [21,26] .  Risk \n",
      "factors for radiographically occult fracture in these studies included those age >65, low -force trauma,  such as a \n",
      "ground-level fall , and female gender.  These studies have almost exclusively included elderly patients.   There is no \n",
      "relevant literature regarding the sensitivity and specificity of radiographs in the younger patient population,  and \n",
      "clinicians are suggested to proceed with caution.  \n",
      " Radiography Pelvis  \n",
      "There is no specific literature  regarding the use of an AP view of the pelvis  alone  for acute hip pain following \n",
      "low-force trauma.   Previous literature regarding the accuracy of radiography has almost exclusively evaluated AP \n",
      "and cross-table lateral radiographs of the hip or the combined use of AP pelvis and hip radiographs.\n",
      "\\Embedded Sentence: Risk \n",
      "factors for radiographically occult fracture in these studies included those age >65, low -force trauma,  such as a \n",
      "ground-level fall , and female gender. \n",
      "\n",
      "mode: text\n",
      "condition: acute hip pain suspected fracture\n",
      "\n",
      "There is no relevant literature to support the use of contrast -enhanced CT as an initial imaging modality in \n",
      "instances of acute hip pain following low -force trauma.  \n",
      " There is no relevant literatu re to support the use of multiphase  CT as an initial imaging modality in instances of \n",
      "acute hip pain following low -force trauma.  \n",
      " US Hip \n",
      "Although there has been limited inves tigation into the use of ultrasound (US) for hip fracture detection, US does \n",
      "not play a role as the initial imaging  in this setting [36] . \n",
      " Bone Scan H ips \n",
      "There is no relevant literature to  support the use of a nuclear medicine bone scan  as an initial imaging modality in \n",
      "instances of acute hip pain following low -force trauma.  \n",
      " Variant 2:  Acute hip pain.  Fall or minor trauma.  Negative radiographs.  Suspect fracture.  Next imaging \n",
      "study. \n",
      " MRI Pelvis and Affected Hip \n",
      "There is considerable literature regarding the use of noncontrast MRI for the detection of radiographically occult \n",
      "proximal femoral fractures.\n",
      "\\Embedded Sentence: Fall or minor trauma. \n",
      "\n",
      "mode: text\n",
      "condition: acute hip pain suspected fracture\n",
      "\n",
      "A full \n",
      "discussion of the broader imaging workup of blunt trauma is beyond the scope of this paper and will be covered in \n",
      "the upcoming ACR Appropriateness Criteria® titled “Major Blunt Trauma” and will be made available on the \n",
      "ACR website  when completed . \n",
      " Treatment  for both intra - and extracapsular proximal femoral fractures in the elderly is typically surgical fixation  \n",
      "because of the risk of further fracture displacement and the dangers of prolonged immobilization in the elderly \n",
      "[15].  Joint replacement may be  performed for displaced fractures of the femoral neck where the risk of femoral \n",
      "head avascular necrosis is high.  Fractures from high -force trauma are also commonly treated with surgical \n",
      "fixation for stability to reduce the risk of post -traumatic osteo arthritis. \n",
      " Discussion of Procedures by Variant  \n",
      "Variant 1:  Acute hip pain.  Fall or minor trauma.  Suspect fracture.  Initial imaging.  \n",
      " Radiography Hip \n",
      "Radiography is the initial imaging modality of choice for assessment of acute hip pain with suspected fracture , \n",
      "with the more advanced imaging modalities reserved for instances of clinically suspected fracture in the setting of \n",
      "negative or equivocal radiographs.  Radiographs are rapidly obtained and well tolerated by patients.\n",
      "\\Embedded Sentence: Fall or minor trauma. \n"
     ]
    }
   ],
   "source": [
    "for retrieved_node in sample_response.source_nodes:\n",
    "    node_content = retrieved_node.node.get_content(MetadataMode.LLM)\n",
    "    print(\"\\n\" + node_content)\n",
    "    if \"window\" in retrieved_node.node.metadata:\n",
    "        print(\"\\Embedded Sentence:\", retrieved_node.node.metadata[\"original_text\"])"
   ]
  }
 ],
 "metadata": {
  "kernelspec": {
   "display_name": "venv",
   "language": "python",
   "name": "python3"
  },
  "language_info": {
   "codemirror_mode": {
    "name": "ipython",
    "version": 3
   },
   "file_extension": ".py",
   "mimetype": "text/x-python",
   "name": "python",
   "nbconvert_exporter": "python",
   "pygments_lexer": "ipython3",
   "version": "3.10.13"
  }
 },
 "nbformat": 4,
 "nbformat_minor": 2
}
