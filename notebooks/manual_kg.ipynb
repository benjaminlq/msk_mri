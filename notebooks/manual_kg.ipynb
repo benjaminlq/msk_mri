{
 "cells": [
  {
   "cell_type": "code",
   "execution_count": 1,
   "metadata": {},
   "outputs": [],
   "source": [
    "import os\n",
    "import json\n",
    "import sys\n",
    "import logging\n",
    "import openai\n",
    "\n",
    "__import__('pysqlite3')\n",
    "import sys\n",
    "sys.modules['sqlite3'] = sys.modules.pop('pysqlite3')\n",
    "\n",
    "import chromadb\n",
    "\n",
    "from typing import Union, Dict, List\n",
    "from llama_index import SimpleDirectoryReader, ServiceContext, VectorStoreIndex\n",
    "from llama_index.storage.storage_context import StorageContext\n",
    "from llama_index.llms import OpenAI\n",
    "from llama_index.embeddings import OpenAIEmbedding\n",
    "from llama_index.schema import Document\n",
    "from llama_index import load_index_from_storage\n",
    "\n",
    "logging.basicConfig(stream=sys.stdout, level=logging.INFO)\n",
    "openai.log = \"info\""
   ]
  },
  {
   "cell_type": "code",
   "execution_count": 2,
   "metadata": {},
   "outputs": [],
   "source": [
    "MAIN_DIR = \"..\"\n",
    "DATA_DIR = os.path.join(MAIN_DIR, \"data\")\n",
    "DOCUMENT_DIR = os.path.join(MAIN_DIR, \"data\", \"document_sources\")\n",
    "EXCLUDE_DICT = os.path.join(DATA_DIR, \"exclude_pages.json\")\n",
    "\n",
    "with open(os.path.join(MAIN_DIR, \"auth\", \"api_keys.json\"), \"r\") as f:\n",
    "    api_keys = json.load(f)\n",
    "\n",
    "os.environ[\"OPENAI_API_KEY\"] = api_keys[\"OPENAI_API_KEY\"]\n",
    "openai.api_key = api_keys[\"OPENAI_API_KEY\"]"
   ]
  },
  {
   "cell_type": "code",
   "execution_count": 3,
   "metadata": {},
   "outputs": [],
   "source": [
    "def convert_prompt_to_string(prompt) -> str:\n",
    "    return prompt.format(**{v: v for v in prompt.template_vars})\n",
    "\n",
    "def generate_query(profile: str, scan: str):\n",
    "    return \"Patient Profile: {}\\nScan ordered: {}\".format(profile, scan)\n",
    "\n",
    "def convert_doc_to_dict(doc: Union[Document, Dict]) -> Dict:\n",
    "    if isinstance(doc, Document):\n",
    "        json_doc = {\n",
    "            \"page_content\": doc.text,\n",
    "            \"metadata\": {\n",
    "                \"source\": doc.metadata[\"file_name\"],\n",
    "                \"page\": doc.metadata[\"page_label\"]\n",
    "            }\n",
    "            }\n",
    "    elif isinstance(doc, Dict):\n",
    "        json_doc = {\n",
    "            \"page_content\": doc[\"text\"],\n",
    "            \"metadata\": {\n",
    "                \"source\": doc[\"metadata\"][\"file_name\"],\n",
    "                \"page\": doc[\"metadata\"][\"page_label\"]\n",
    "            }\n",
    "        }\n",
    "    return json_doc\n",
    "\n",
    "def get_experiment_logs(description: str, log_folder: str):\n",
    "    logger = logging.getLogger(description)\n",
    "\n",
    "    stream_handler = logging.StreamHandler(sys.stdout)\n",
    "\n",
    "    if not os.path.exists(log_folder):\n",
    "        os.makedirs(log_folder, exist_ok=True)\n",
    "\n",
    "    file_handler = logging.FileHandler(filename=os.path.join(log_folder, \"logfile.log\"))\n",
    "\n",
    "    formatter = logging.Formatter(\"%(asctime)s:%(levelname)s: %(message)s\")\n",
    "    file_handler.setFormatter(formatter)\n",
    "    stream_handler.setFormatter(formatter)\n",
    "\n",
    "    logger.setLevel(logging.INFO)\n",
    "    logger.addHandler(stream_handler)\n",
    "    logger.addHandler(file_handler)\n",
    "    \n",
    "    return logger\n",
    "\n",
    "def filter_by_pages(\n",
    "    doc_list: List[Document],\n",
    "    exclude_info: Dict[str, List]\n",
    ") -> List[Document]:\n",
    "    filtered_list = []\n",
    "    for doc in doc_list:\n",
    "        file_name = doc.metadata[\"file_name\"]\n",
    "        page = doc.metadata[\"page_label\"]\n",
    "        if file_name not in exclude_info.keys():\n",
    "            filtered_list.append(doc)\n",
    "            continue\n",
    "        if int(page) not in exclude_info[file_name]:\n",
    "            filtered_list.append(doc)\n",
    "\n",
    "    return filtered_list"
   ]
  },
  {
   "cell_type": "code",
   "execution_count": 4,
   "metadata": {},
   "outputs": [
    {
     "name": "stdout",
     "output_type": "stream",
     "text": [
      "Total no of docs before filtering: 546\n",
      "Total number of docs after filtering 395\n"
     ]
    }
   ],
   "source": [
    "documents = SimpleDirectoryReader(DOCUMENT_DIR).load_data()\n",
    "print(\"Total no of docs before filtering:\", len(documents))\n",
    "with open(EXCLUDE_DICT, \"r\") as f:\n",
    "    exclude_pages = json.load(f)\n",
    "documents = filter_by_pages(doc_list=documents, exclude_info=exclude_pages)\n",
    "print(\"Total number of docs after filtering\", len(documents))"
   ]
  },
  {
   "cell_type": "code",
   "execution_count": 5,
   "metadata": {},
   "outputs": [],
   "source": [
    "def organize_by_files(\n",
    "    doc_list: List[Document]\n",
    "):\n",
    "    doc_dict = {}\n",
    "    for doc in doc_list:\n",
    "        filename = doc.metadata[\"file_name\"]\n",
    "        if filename not in doc_dict:\n",
    "            doc_dict[filename] = [doc]\n",
    "        else:\n",
    "            doc_dict[filename].append(doc)\n",
    "            \n",
    "    return doc_dict"
   ]
  },
  {
   "cell_type": "code",
   "execution_count": 11,
   "metadata": {},
   "outputs": [],
   "source": [
    "path_list = os.listdir(DOCUMENT_DIR)\n",
    "doc_dict = organize_by_files(documents)\n",
    "sample_file = path_list[0]\n",
    "sample_docs = doc_dict[sample_file]"
   ]
  },
  {
   "cell_type": "code",
   "execution_count": 17,
   "metadata": {},
   "outputs": [
    {
     "data": {
      "text/plain": [
       "'Revised 2018  \\nACR Appropriateness Criteria® 1 Acute Hand and Wrist Trauma  American College of Radiology  \\nACR Appropriateness Criteria® \\nAcute Hand and Wrist Trauma  \\nVariant 1:  Acute blunt or penetrating trauma  to the hand or wrist.  Initial imaging.  \\nProcedure  Appropriateness Category  Relative Radiation Level  \\nRadiography  area of int erest  Usually Appropriate  Varies  \\nCT area of interest  with IV contrast  Usually Not Appropriate  Varies  \\nCT area of interest  without and with IV \\ncontrast  Usually Not Appropriate  Varies  \\nCT area of interest  without IV contrast  Usually Not Appropriate  Varies  \\nMRI area of interest  without and with IV \\ncontrast  Usually Not Appropriate  O \\nMRI area of interest  without IV contrast  Usually Not Appropriate  O \\nBone scan area of interest  Usually Not Appropriate  ☢☢☢  \\nUS area of interest  Usually Not Appropriate  O \\nVariant 2: Suspect acute hand  or wrist trauma . Initial radiographs negative or equivocal. Next imaging \\nstudy. \\nProcedure  Appropriateness Category  Relative Radiation Level  \\nMRI area of interest  without IV contrast  Usually Appropriate  O \\nRadiography  area of interest repeat in 10 -14 \\ndays Usually Appropriate  Varies  \\nCT area of interest  without IV contrast  Usually Appropriate  Varies  \\nCT area of interest  with IV contrast  Usually Not Appropriate  Varies  \\nCT area of interest  without and with IV \\ncontrast  Usually Not Appropria te Varies  \\nMRI area of interest  without and with IV \\ncontrast  Usually Not Appropriate  O \\nBone scan area of interest  Usually Not Appropriate  ☢☢☢  \\nUS area of interest  Usually Not Appropriate  O '"
      ]
     },
     "execution_count": 17,
     "metadata": {},
     "output_type": "execute_result"
    }
   ],
   "source": [
    "sample_text = sample_docs[0].text\n",
    "sample_text"
   ]
  },
  {
   "cell_type": "code",
   "execution_count": 18,
   "metadata": {},
   "outputs": [
    {
     "name": "stdout",
     "output_type": "stream",
     "text": [
      "Revised 2018  \n",
      "ACR Appropriateness Criteria® 1 Acute Hand and Wrist Trauma  American College of Radiology  \n",
      "ACR Appropriateness Criteria® \n",
      "Acute Hand and Wrist Trauma  \n",
      "Variant 1:  Acute blunt or penetrating trauma  to the hand or wrist.  Initial imaging.  \n",
      "Procedure  Appropriateness Category  Relative Radiation Level  \n",
      "Radiography  area of int erest  Usually Appropriate  Varies  \n",
      "CT area of interest  with IV contrast  Usually Not Appropriate  Varies  \n",
      "CT area of interest  without and with IV \n",
      "contrast  Usually Not Appropriate  Varies  \n",
      "CT area of interest  without IV contrast  Usually Not Appropriate  Varies  \n",
      "MRI area of interest  without and with IV \n",
      "contrast  Usually Not Appropriate  O \n",
      "MRI area of interest  without IV contrast  Usually Not Appropriate  O \n",
      "Bone scan area of interest  Usually Not Appropriate  ☢☢☢  \n",
      "US area of interest  Usually Not Appropriate  O \n",
      "Variant 2: Suspect acute hand  or wrist trauma . Initial radiographs negative or equivocal. Next imaging \n",
      "study. \n",
      "Procedure  Appropriateness Category  Relative Radiation Level  \n",
      "MRI area of interest  without IV contrast  Usually Appropriate  O \n",
      "Radiography  area of interest repeat in 10 -14 \n",
      "days Usually Appropriate  Varies  \n",
      "CT area of interest  without IV contrast  Usually Appropriate  Varies  \n",
      "CT area of interest  with IV contrast  Usually Not Appropriate  Varies  \n",
      "CT area of interest  without and with IV \n",
      "contrast  Usually Not Appropria te Varies  \n",
      "MRI area of interest  without and with IV \n",
      "contrast  Usually Not Appropriate  O \n",
      "Bone scan area of interest  Usually Not Appropriate  ☢☢☢  \n",
      "US area of interest  Usually Not Appropriate  O \n"
     ]
    }
   ],
   "source": [
    "print(sample_text)"
   ]
  }
 ],
 "metadata": {
  "kernelspec": {
   "display_name": "venv",
   "language": "python",
   "name": "python3"
  },
  "language_info": {
   "codemirror_mode": {
    "name": "ipython",
    "version": 3
   },
   "file_extension": ".py",
   "mimetype": "text/x-python",
   "name": "python",
   "nbconvert_exporter": "python",
   "pygments_lexer": "ipython3",
   "version": "3.10.12"
  }
 },
 "nbformat": 4,
 "nbformat_minor": 2
}
