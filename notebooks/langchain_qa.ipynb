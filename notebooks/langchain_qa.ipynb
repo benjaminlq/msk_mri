{
 "cells": [
  {
   "cell_type": "code",
   "execution_count": 1,
   "metadata": {},
   "outputs": [],
   "source": [
    "import os,json\n",
    "\n",
    "from langchain.prompts import ChatPromptTemplate, SystemMessagePromptTemplate, HumanMessagePromptTemplate"
   ]
  },
  {
   "cell_type": "code",
   "execution_count": 87,
   "metadata": {},
   "outputs": [],
   "source": [
    "MAIN_DIR = \"..\"\n",
    "DATA_DIR = os.path.join(MAIN_DIR, \"data\")\n",
    "ARTIFACT_DIR = os.path.join(MAIN_DIR, \"artifacts\")\n",
    "DOCUMENTS_DIR = os.path.join(DATA_DIR, \"document_sources\")\n",
    "EMB_DIR = os.path.join(DATA_DIR, \"emb_store\")\n",
    "\n",
    "with open(os.path.join(MAIN_DIR, \"auth\", \"api_keys.json\"), \"r\") as f:\n",
    "    api_keys = json.load(f)\n",
    "    \n",
    "os.environ[\"OPENAI_API_KEY\"] = api_keys[\"OPENAI_API_KEY\"]"
   ]
  },
  {
   "cell_type": "markdown",
   "metadata": {},
   "source": [
    "## Setup VectorStore"
   ]
  },
  {
   "cell_type": "code",
   "execution_count": 50,
   "metadata": {},
   "outputs": [],
   "source": [
    "from langchain.embeddings import OpenAIEmbeddings\n",
    "from langchain.chat_models import ChatOpenAI\n",
    "from langchain.vectorstores import FAISS\n",
    "\n",
    "embeddings = OpenAIEmbeddings()\n",
    "llm = ChatOpenAI(model_name=\"gpt-4\", temperature=0, max_tokens=512)"
   ]
  },
  {
   "cell_type": "code",
   "execution_count": 4,
   "metadata": {},
   "outputs": [],
   "source": [
    "vectordb_params = dict(\n",
    "    chunk_size=1024,\n",
    "    chunk_overlap=128,\n",
    ")\n",
    "\n",
    "emb_db_path = os.path.join(EMB_DIR, \"faiss\",\n",
    "                           \"openai_{}_{}\".format(vectordb_params[\"chunk_size\"],\n",
    "                                                 vectordb_params[\"chunk_overlap\"]))"
   ]
  },
  {
   "cell_type": "code",
   "execution_count": 75,
   "metadata": {},
   "outputs": [
    {
     "name": "stdout",
     "output_type": "stream",
     "text": [
      "Number of document pages: 22\n",
      "Number of document pages: 17\n",
      "Number of document pages: 25\n",
      "Number of text chunks: 321\n"
     ]
    }
   ],
   "source": [
    "# Create document stores\n",
    "from langchain.document_loaders import PyPDFLoader\n",
    "from langchain.text_splitter import RecursiveCharacterTextSplitter\n",
    "\n",
    "documents = [\n",
    "    \"ACR low back pain.pdf\",\n",
    "    \"ACR suspected spine infection.pdf\",\n",
    "    \"ACR suspected spine trauma.pdf\"\n",
    "    ]\n",
    "\n",
    "texts = []\n",
    "\n",
    "for document in documents:\n",
    "    lbp_path = os.path.join(DOCUMENTS_DIR, document)\n",
    "    docs = PyPDFLoader(lbp_path).load()\n",
    "    print(\"Number of document pages:\", len(docs))\n",
    "    text_splitter = RecursiveCharacterTextSplitter(**vectordb_params)\n",
    "    texts.extend(text_splitter.split_documents(docs))\n",
    "\n",
    "print(\"Number of text chunks:\", len(texts))\n",
    "\n",
    "if not os.path.exists(emb_db_path):\n",
    "    os.makedirs(emb_db_path, exist_ok=True)\n",
    "\n",
    "docsearch = FAISS.from_documents(texts, embeddings)\n",
    "docsearch.save_local(emb_db_path)"
   ]
  },
  {
   "cell_type": "code",
   "execution_count": 76,
   "metadata": {},
   "outputs": [],
   "source": [
    "docsearch = FAISS.load_local(emb_db_path, embeddings=embeddings)"
   ]
  },
  {
   "cell_type": "code",
   "execution_count": 77,
   "metadata": {},
   "outputs": [
    {
     "name": "stdout",
     "output_type": "stream",
     "text": [
      "Sample Query: PATIENT PROFILE: 48 year old Indian male.  CEO of shipping company.  Recreational cricket player. Prior history of fatty liver, hyperlipidemia on statins. Now presenting with low back pain for 3 days post cricket match. No radiation to groin or lower limbs.  Able to walk.  Urination and bowel motion are ok. No fever.  On examination, straight leg raise test is positive. Power in bilateral lower limbs is full.  Digital rectal examination shows good anal tone. No prior imaging.  For MRI lumbar spine with IV contrast to assess for prolapsed intervertebral disc or muscle strain. \n",
      "MRI SCAN ORDERED: MRI lumbar spine with IV contrast\n",
      "\n",
      "\n",
      "\n",
      "ACR Appropriateness  Criteria® 12 Low Back  Pain spinal  canal  patency.  MRI lumbar  spine  without  IV contrast  is most  useful  in the evaluation  of suspected  CES, \n",
      "multifocal deficit, or progressive  neurologic  deficit  because of  its ability  to accurately  depict  soft-tissue pathology,  \n",
      "assess vertebral  marrow,  and assess the spinal  canal  patency.  A prospective  cohort  study by Bell et al [41] \n",
      "recommends urgent  MRI assessment  in all patients  who present  with new-onset  urinary  symptoms  in the context  of \n",
      "LBP or sciatica.  Recently,  a single  3-D heavily  T2-weighted  fat-saturated  sequence protocol  has been  shown  to be \n",
      "a rapid,  highly sensitive tool for evaluating  CES in the emergency  department  that can be utilized  for improved \n",
      "efficiency  and emergency  department  throughput  [42]. \n",
      "Although MRI  lumbar  spine  without  IV contrast  is the preferred  initial study,  MRI lumbar  spine  without  and with\n",
      "\n",
      "assessment  in all patients  who present  with new-onset  urinary  symptoms  in the context  of LBP or sciatica.  Recently, \n",
      "a single  3-D heavily  T2-weighted  fat-saturated  sequence protocol  has been  shown  to be a rapid,  highly sensitive \n",
      "tool for evaluating  CES in the emergency  department  that can be utilized  for improved efficiency  and emergency  \n",
      "department  throughput  [42]. \n",
      "Radiography Lumbar  Spine  \n",
      "There is no relevant  literature  to support  the use of radiography in the initial imaging  of suspected  CES. \n",
      "Variant  5: Low  back  pain  with  history  of prior  lumbar  surgery  and with  or without  radiculopathy. New or \n",
      "progressing  symptoms  or clinical findings . Initial imaging.  \n",
      "There are many  causes of back  pain following  surgery.  Some  of the more  frequent  etiologies  diagnosed  with \n",
      "imaging  include  free disc or bone  fragments,  postoperative  scarring,  failure  of bone  graft  for fusion,  and recurrent\n",
      "\n",
      "ACR Appropriateness  Criteria® 11 Low Back  Pain Discography  and Post-Discography  CT Lumbar  Spine  \n",
      "Although the utility  of discography in patients  with LBP remains  controversial,  a systematic review by Manchikanti  \n",
      "et al [32] provides  level  III evidence that lumbar  discography may be useful  in patients  with chronic  discogenic  \n",
      "LBP. \n",
      "FDG -PET/CT  Whole  Body  \n",
      "There is no relevant  literature  to support  the use of whole -body FDG-PET/CT in the evaluation  of a surgery  or \n",
      "intervention  candidate with persistent  or progressive  symptoms  during  or following 6 weeks of conservative  \n",
      "management  [28-30]. \n",
      "MRI Lumbar Spine With IV Contrast  \n",
      "MRI lumbar  spine  with IV contrast  is not typically  performed  independently as an initial study,  as its interpretation  \n",
      "is most  informative  when  correlated  with standard  noncontrast  sequences included in MRI lumbar  spine  with and \n",
      "without  IV contrast  [33]. \n",
      "MRI Lumbar Spine Without and With IV Contrast\n",
      "\n",
      "subacute or chronic LBP with or without radiculopathy and who are candidates for surgery or intervention with \n",
      "persistent or progressive symptoms during or following 6 weeks of optimal medical management.  \n",
      "• Variant 4:  MRI lumbar spine without and with IV contrast or MRI lumbar spine without IV contrast is usually \n",
      "appropriate as the initial imaging of patients with LBP with suspected CES. These procedures are equivalent \n",
      "alternatives (ie, only one procedure will be ordered to provide the clinical information to effectively manage \n",
      "the patient’s care) . \n",
      "• Variant 5:  Radiography lumbar spine or MRI lumbar spine without and with IV contrast or MRI lumbar spine \n",
      "without  IV contrast is usually appropriate as the initial imaging of patients with LBP with history of prior \n",
      "lumbar surgery and with or without radiculopathy and new or progressing symptoms or clinica l findings. These \n",
      "procedures are complementary (ie, both should be performed).\n",
      "\n",
      "ACR Appropriateness  Criteria® 20 Low Back  Pain 18. Tan A, Zhou J, Kuo YF, Goodwin JS. Variation among Primary Care Physicians in the Use of Imaging for \n",
      "Older Patients with Acute Low Back Pain. J Gen Intern Med  2016;31:156-63.  \n",
      "19. Last AR, Hulbert K. Chronic low back pain: evaluation and management. Am Fam Physician  2009;79:1067-\n",
      "74. \n",
      "20. Brinjikji W, Diehn FE, Jarvik JG, et al. MRI Findings of Disc Degeneration are More Prevalent in Adults with \n",
      "Low Back Pain than in Asymptomatic Controls: A Systematic Review and Meta-Analysis. AJNR Am J \n",
      "Neuroradiol  2015;36:2394- 9. \n",
      "21. Suri P, Boyko EJ, Goldberg J, Forsberg CW, Jarvik JG. Longitudinal associations between incident lumbar \n",
      "spine MRI findings and chronic low back pain or radicular symptoms: retrospective analysis of data from the \n",
      "longitudinal assessment of i maging and disability of the back (LAIDBACK). BMC Musculoskelet Disord  \n",
      "2014;15:152.\n"
     ]
    }
   ],
   "source": [
    "retriever = docsearch.as_retriever(\n",
    "    search_kwargs={\"k\": 5}\n",
    ")\n",
    "\n",
    "patient_profile = (\"48 year old Indian male.  CEO of shipping company.  Recreational cricket player. \"\n",
    "                \"Prior history of fatty liver, hyperlipidemia on statins. \"\n",
    "                \"Now presenting with low back pain for 3 days post cricket match. \"\n",
    "                \"No radiation to groin or lower limbs.  Able to walk.  Urination and bowel motion are ok. \"\n",
    "                \"No fever.  On examination, straight leg raise test is positive. \"\n",
    "                \"Power in bilateral lower limbs is full.  Digital rectal examination shows good anal tone. \"\n",
    "                \"No prior imaging.  For MRI lumbar spine with IV contrast to assess for prolapsed intervertebral disc or muscle strain. \"\n",
    "                )\n",
    "scan_order = \"MRI lumbar spine with IV contrast\"\n",
    "\n",
    "sample_query = \"\"\"PATIENT PROFILE: {}\n",
    "MRI SCAN ORDERED: {}\n",
    "\"\"\".format(patient_profile, scan_order)\n",
    "\n",
    "print(\"Sample Query:\", sample_query)\n",
    "print()\n",
    "docs = retriever.get_relevant_documents(sample_query)\n",
    "for doc in docs:\n",
    "    print()\n",
    "    print(doc.page_content)"
   ]
  },
  {
   "cell_type": "code",
   "execution_count": 78,
   "metadata": {},
   "outputs": [
    {
     "name": "stdout",
     "output_type": "stream",
     "text": [
      "System: \n",
      "You are a radiologist expert at providing imaging recommendations for patients with musculoskeletal conditions.\n",
      "If you do not know an answer, just say \"I dont know\", do not make up an answer.\n",
      "==========\n",
      "TASK:\n",
      "1. Extract from given PATIENT PROFILE relevant information for classification of imaging appropriateness.\n",
      "Important information includes AGE, SYMPTOMS, DIAGNOSIS (IF ANY), which stage of diagnosis (INITIAL IMAGING OR NEXT STUDY).\n",
      "2. Refer to the reference information given under CONTEXT to analyse the appropriate imaging recommendations given the patient profile.\n",
      "3. Recommend if the image scan ordered is appropriate given the PATIENT PROFILE and CONTEXT. If the scan is not appropriate, recommend an appropriate procedure.\n",
      "STRICTLY answer based on the given PATIENT PROFILE and CONTEXT.\n",
      "==========\n",
      "OUTPUT INSTRUCTIONS:\n",
      "Your output should contain the following:\n",
      "1. Classification of appropriateness for the ordered scan. Can be one of [USUALLY APPROPRIATE, MAY BE APPROPRIATE, USUALLY NOT APPROPRIATE, INSUFFICIENT INFORMATION]\n",
      "2. Provide explanation for the appropriateness classification.\n",
      "3. If classification answer is USUALLY NOT APPROPRIATE, either recommend an alternative appropriate scan procedure or return NO SCAN REQUIRED.\n",
      "==========\n",
      "CONTEXT:\n",
      "context\n",
      "==========\n",
      "\n",
      "Human: question\n"
     ]
    }
   ],
   "source": [
    "system_template = \"\"\"\n",
    "You are a radiologist expert at providing imaging recommendations for patients with musculoskeletal conditions.\n",
    "If you do not know an answer, just say \"I dont know\", do not make up an answer.\n",
    "==========\n",
    "TASK:\n",
    "1. Extract from given PATIENT PROFILE relevant information for classification of imaging appropriateness.\n",
    "Important information includes AGE, SYMPTOMS, DIAGNOSIS (IF ANY), which stage of diagnosis (INITIAL IMAGING OR NEXT STUDY).\n",
    "2. Refer to the reference information given under CONTEXT to analyse the appropriate imaging recommendations given the patient profile.\n",
    "3. Recommend if the image scan ordered is appropriate given the PATIENT PROFILE and CONTEXT. If the scan is not appropriate, recommend an appropriate procedure.\n",
    "STRICTLY answer based on the given PATIENT PROFILE and CONTEXT.\n",
    "==========\n",
    "OUTPUT INSTRUCTIONS:\n",
    "Your output should contain the following:\n",
    "1. Classification of appropriateness for the ordered scan. Can be one of [USUALLY APPROPRIATE, MAY BE APPROPRIATE, USUALLY NOT APPROPRIATE, INSUFFICIENT INFORMATION]\n",
    "2. Provide explanation for the appropriateness classification.\n",
    "3. If classification answer is USUALLY NOT APPROPRIATE, either recommend an alternative appropriate scan procedure or return NO SCAN REQUIRED.\n",
    "==========\n",
    "CONTEXT:\n",
    "{context}\n",
    "==========\n",
    "\"\"\"\n",
    "\n",
    "human_template = \"{question}\"\n",
    "\n",
    "PROMPT_TEMPLATE = ChatPromptTemplate.from_messages(\n",
    "    [\n",
    "        SystemMessagePromptTemplate.from_template(system_template),\n",
    "        HumanMessagePromptTemplate.from_template(human_template)\n",
    "    ]\n",
    ")\n",
    "\n",
    "print(PROMPT_TEMPLATE.format(context=\"context\", question=\"question\"))"
   ]
  },
  {
   "cell_type": "code",
   "execution_count": 79,
   "metadata": {},
   "outputs": [],
   "source": [
    "from langchain.chains import RetrievalQA\n",
    "from typing import List, Optional\n",
    "from langchain.schema import Document, BaseDocumentTransformer\n",
    "from langchain.callbacks.manager import CallbackManagerForChainRun\n",
    "\n",
    "class ReOrderQARetrieval(RetrievalQA):\n",
    "    \n",
    "    reorder_fn: Optional[BaseDocumentTransformer] = None\n",
    "    \n",
    "    def _get_docs(\n",
    "        self,\n",
    "        question: str,\n",
    "        *,\n",
    "        run_manager: CallbackManagerForChainRun,\n",
    "    ) -> List[Document]:\n",
    "        \"\"\"Get docs.\"\"\"\n",
    "        print(question)\n",
    "        docs = self.retriever.get_relevant_documents(\n",
    "            question, callbacks=run_manager.get_child()\n",
    "        )\n",
    "        \n",
    "        docs = self.reorder_fn.transform_documents(docs) if self.reorder_fn else docs\n",
    "     \n",
    "        return docs"
   ]
  },
  {
   "cell_type": "code",
   "execution_count": 102,
   "metadata": {},
   "outputs": [
    {
     "name": "stdout",
     "output_type": "stream",
     "text": [
      "1\n"
     ]
    }
   ],
   "source": [
    "if not os.environ.get(\"123\"):\n",
    "    print(1)"
   ]
  },
  {
   "cell_type": "code",
   "execution_count": 80,
   "metadata": {},
   "outputs": [],
   "source": [
    "from langchain.document_transformers import LongContextReorder\n",
    "\n",
    "qa_chains = ReOrderQARetrieval.from_chain_type(\n",
    "    llm=llm,\n",
    "    retriever=docsearch.as_retriever(search_kwargs={\"k\": 5}),\n",
    "    reorder_fn = LongContextReorder(),\n",
    "    chain_type=\"stuff\",b\n",
    "    chain_type_kwargs=dict(\n",
    "        document_variable_name = \"context\",\n",
    "        prompt=PROMPT_TEMPLATE\n",
    "    ),\n",
    "    input_key=\"question\",\n",
    "    return_source_documents = True,\n",
    "    verbose=True\n",
    ")"
   ]
  },
  {
   "cell_type": "code",
   "execution_count": 83,
   "metadata": {},
   "outputs": [],
   "source": [
    "with open(os.path.join(DATA_DIR, \"queries\", \"lbp_cases.json\"), \"r\") as f:\n",
    "    lbp_testcases = json.load(f)"
   ]
  },
  {
   "cell_type": "code",
   "execution_count": 84,
   "metadata": {},
   "outputs": [
    {
     "name": "stdout",
     "output_type": "stream",
     "text": [
      "\n",
      "\n",
      "\u001b[1m> Entering new ReOrderQARetrieval chain...\u001b[0m\n",
      "PATIENT PROFILE: 41 year old Chinese male.  No prior medical history.  Smoker.  Now coming into emergency room for road traffic accident. Patient was driving company car when rear-ended by a truck.  Car hit road divider.  On examintion, patient is alert, but power in bilateral lower limbs is 2 out of 5.  Slightly lax anal tone on digital rectal examination.  X-rays show T12 chance fracture.  MRI thoracic and lumbar spine without IV contrast to assess for neurologic injury.\n",
      "    MRI SCAN ORDERED: MRI thoracic and lumbar spine without IV contrast\n",
      "    \n",
      "\n",
      "\u001b[1m> Finished chain.\u001b[0m\n",
      "\n",
      "\n",
      "\u001b[1m> Entering new ReOrderQARetrieval chain...\u001b[0m\n",
      "PATIENT PROFILE: 48 year old Indian male.  CEO of shipping company.  Recreational cricket player.  Prior history of fatty liver, hyperlipidemia on statins.   Now presenting with low back pain for 3 days post cricket match.  No radiation to groin or lower limbs.  Able to walk.  Urination and bowel motion are ok.  No fever.  On examination, straight leg raise test is positive.  Power in bilateral lower limbs is full.  Digital rectal examination shows good anal tone.  No prior imaging.  For MRI lumbar spine with IV contrast to assess for prolapsed intervertebral disc or muscle strain. \n",
      "    MRI SCAN ORDERED: MRI lumbar spine with IV contrast\n",
      "    \n",
      "\n",
      "\u001b[1m> Finished chain.\u001b[0m\n",
      "\n",
      "\n",
      "\u001b[1m> Entering new ReOrderQARetrieval chain...\u001b[0m\n",
      "PATIENT PROFILE: 73 year old Malay female.  Past history of cholecystectomy, fatty liver, obesity, hypertension, hyperlipidemia, osteoarthritis of bilateral knees post bilateral total knee replacement.  Now presenting with low back pain for 6 days.  No radiation to groin or lower limbs.  No difficulty passing urine or bowel motion.  On examination, mild step deformity at L2 region.  Power full in bilateral lower limbs.  Good anal tone on digital rectal examination.  No prior imaging.  For MIR lumbar spine without IV contrast to further assess low back pain.\n",
      "    MRI SCAN ORDERED: MRI lumbar spine without IV contrast\n",
      "    \n",
      "\n",
      "\u001b[1m> Finished chain.\u001b[0m\n",
      "\n",
      "\n",
      "\u001b[1m> Entering new ReOrderQARetrieval chain...\u001b[0m\n",
      "PATIENT PROFILE: 46 year old Caucasian female.  History of systemic lupus erythematosus on follow up with rheumatology.  Now presenting with 5 day history of worsening numbness and tingling in all 4 limbs, feels uncoordinated and more difficult to control continence.  On examination, reduced pinprick sensation in bilateral hands and feets, power in all 4 limbs is 3 to 4 out of 5.  Anal tone is equivocally lax.  No sensory level.  No prior imaging. For MRI whole spine without and with IV contrast to assess for myelopathy.\n",
      "    MRI SCAN ORDERED: MRI spine area of interest without and with IV contrast\n",
      "    \n",
      "\n",
      "\u001b[1m> Finished chain.\u001b[0m\n",
      "\n",
      "\n",
      "\u001b[1m> Entering new ReOrderQARetrieval chain...\u001b[0m\n",
      "PATIENT PROFILE: 73 year old Indian male, with history of end stage diabetic nephropathy on haemodialysis. Complains of lower back pain for the past 2 months with occasional night pain. Associated with radicular pain of left lower limb. no fever. Physical exam reveals mild tenderness at L3-L4 region but otherwise unremarkable. No prior imaging. MRI lumbar spine without and with IV contrast for possible spondylodiscitis.\n",
      "    MRI SCAN ORDERED: MRI spine area of interest without and with IV contrast\n",
      "    \n",
      "\n",
      "\u001b[1m> Finished chain.\u001b[0m\n",
      "\n",
      "\n",
      "\u001b[1m> Entering new ReOrderQARetrieval chain...\u001b[0m\n",
      "PATIENT PROFILE: 70 year old malay male. History of diabetes, hyperlipidemia and hypertension. Worsening neck pain for past 6 months, no radiculopathy or night pain. No recent trauma. Clinical exam reveals mild midline tenderness over the cervical spine with limited range of motion, but no focal neurological deficit. MRI cervical spine without IV contrast for initial examination. \n",
      "    MRI SCAN ORDERED: MRI cervical spine with IV contrast\n",
      "    \n",
      "\n",
      "\u001b[1m> Finished chain.\u001b[0m\n"
     ]
    }
   ],
   "source": [
    "responses = []\n",
    "for test_case in lbp_testcases:\n",
    "    sample_query = \"\"\"PATIENT PROFILE: {}\n",
    "    MRI SCAN ORDERED: {}\n",
    "    \"\"\".format(test_case[\"patient_profile\"], test_case[\"scan_order\"])\n",
    "    response = qa_chains(sample_query)\n",
    "    responses.append(response)"
   ]
  },
  {
   "cell_type": "code",
   "execution_count": 92,
   "metadata": {},
   "outputs": [],
   "source": [
    "for response in responses:\n",
    "    response[\"source_documents\"] = [doc.page_content for doc in response[\"source_documents\"]]\n",
    "    \n",
    "with open(os.path.join(ARTIFACT_DIR, \"lbp_sample_results.json\"), \"w\") as f:\n",
    "    json.dump(responses, f)"
   ]
  },
  {
   "cell_type": "code",
   "execution_count": 97,
   "metadata": {},
   "outputs": [],
   "source": [
    "import pandas as pd\n",
    "\n",
    "lbp_sample_dict = {\n",
    "    \"question\": [response[\"question\"] for response in responses],\n",
    "    \"answer\": [response[\"result\"] for response in responses]\n",
    "}\n",
    "\n",
    "for idx in range(5):\n",
    "    lbp_sample_dict[f\"doc_{idx+1}\"] = [response[\"source_documents\"][idx] for response in responses]\n",
    "    \n",
    "lbp_sample_df = pd.DataFrame(lbp_sample_dict)"
   ]
  },
  {
   "cell_type": "code",
   "execution_count": 100,
   "metadata": {},
   "outputs": [],
   "source": [
    "lbp_sample_df.to_csv(os.path.join(ARTIFACT_DIR, \"lbp_sample_results.csv\"), header=True)"
   ]
  }
 ],
 "metadata": {
  "kernelspec": {
   "display_name": "venv",
   "language": "python",
   "name": "python3"
  },
  "language_info": {
   "codemirror_mode": {
    "name": "ipython",
    "version": 3
   },
   "file_extension": ".py",
   "mimetype": "text/x-python",
   "name": "python",
   "nbconvert_exporter": "python",
   "pygments_lexer": "ipython3",
   "version": "3.10.12"
  }
 },
 "nbformat": 4,
 "nbformat_minor": 2
}
