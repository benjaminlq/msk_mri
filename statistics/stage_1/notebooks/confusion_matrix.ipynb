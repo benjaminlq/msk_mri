{
 "cells": [
  {
   "cell_type": "code",
   "execution_count": 1,
   "metadata": {},
   "outputs": [],
   "source": [
    "import numpy as np\n",
    "import os\n",
    "import pandas as pd\n",
    "\n",
    "from collections import Counter\n",
    "from config import MAIN_DIR\n",
    "from math import comb\n",
    "from sklearn.metrics import accuracy_score, recall_score, precision_score, f1_score, cohen_kappa_score, confusion_matrix\n",
    "from typing import Sequence, Dict, Any\n",
    "\n",
    "from statsmodels.stats import inter_rater as irr\n",
    "from statsmodels.stats.contingency_tables import mcnemar"
   ]
  },
  {
   "cell_type": "code",
   "execution_count": 2,
   "metadata": {},
   "outputs": [],
   "source": [
    "DATA_DIR = os.path.join(\"..\", \"data\", \"answers\")\n",
    "\n",
    "human_result_path = os.path.join(MAIN_DIR, \"artifacts\", \"human_responses.xlsx\")\n",
    "ai_result_path = os.path.join(MAIN_DIR, \"artifacts\", \"ai_results_summary.xlsx\")\n",
    "save_folder = os.path.join(\"..\", \"artifacts\")"
   ]
  },
  {
   "cell_type": "code",
   "execution_count": 4,
   "metadata": {},
   "outputs": [],
   "source": [
    "def majority_vote(\n",
    "    data: Sequence  \n",
    ") -> Any:\n",
    "    counter = Counter(data)\n",
    "    return max(counter, key=counter.get)\n",
    "\n",
    "def rename_column(\n",
    "    column: pd.Series,\n",
    "    rename_dict: Dict = {\n",
    "        \"USUALLY APPROPRIATE\": \"UA/MBA\",\n",
    "        \"MAY BE APPROPRIATE\": \"UA/MBA\",\n",
    "        \"USUALLY NOT APPROPRIATE\": \"UNA\",\n",
    "        \"INSUFFICIENT INFORMATION\": \"ICI\",\n",
    "        \"UA\": \"UA/MBA\",\n",
    "        \"MBA\": \"UA/MBA\",\n",
    "        }\n",
    ") -> pd.Series:\n",
    "    return column.replace(rename_dict)\n",
    "\n",
    "def evaluate_results(\n",
    "    labels: Sequence, preds: Sequence    \n",
    ") -> Dict:\n",
    "    accuracy = accuracy_score(labels, preds)\n",
    "    macro_precision = precision_score(labels, preds, average = \"macro\", zero_division=np.nan)\n",
    "    weighted_precision = precision_score(labels, preds, average = \"weighted\", zero_division=np.nan)\n",
    "    macro_recall = recall_score(labels, preds, average = \"macro\", zero_division=np.nan)\n",
    "    weighted_recall = recall_score(labels, preds, average = \"weighted\", zero_division=np.nan)\n",
    "    macro_f1 = f1_score(labels, preds, average = \"macro\", zero_division=np.nan)\n",
    "    weighted_f1 = f1_score(labels, preds, average = \"weighted\", zero_division=np.nan)\n",
    "    \n",
    "    return {\n",
    "        \"accuracy\": accuracy,\n",
    "        \"macro_precision\": macro_precision,\n",
    "        \"weighted_precision\": weighted_precision,\n",
    "        \"macro_recall\": macro_recall,\n",
    "        \"weighted_recall\": weighted_recall,\n",
    "        \"macro_f1\": macro_f1,\n",
    "        \"weighted_f1\": weighted_f1,\n",
    "    }"
   ]
  },
  {
   "cell_type": "markdown",
   "metadata": {},
   "source": [
    "# Analysis"
   ]
  },
  {
   "cell_type": "code",
   "execution_count": 23,
   "metadata": {},
   "outputs": [],
   "source": [
    "df_dict = {}\n",
    "summary_results = {}\n",
    "\n",
    "ai_modes = [\n",
    "    \"NoRAG\", \"BaseRAG\", \"CombinedRAG\",\n",
    "]\n",
    "\n",
    "for ai_mode in ai_modes:\n",
    "    \n",
    "    summary_results[ai_mode] = {\n",
    "        \"accuracy\": [],\n",
    "        \"macro_precision\": [],\n",
    "        \"weighted_precision\": [],\n",
    "        \"macro_recall\": [],\n",
    "        \"weighted_recall\": [],\n",
    "        \"macro_f1\": [],\n",
    "        \"weighted_f1\": [],\n",
    "    }\n",
    "    \n",
    "    df_dict[ai_mode] = pd.read_excel(ai_result_path, sheet_name=ai_mode, index_col=\"No\")\n",
    "    df_dict[ai_mode][\"human_gt\"] = rename_column(df_dict[ai_mode][\"human_gt\"])\n",
    "    \n",
    "    for i in range(5):\n",
    "        df_dict[ai_mode][f\"answer_{i+1}\"] = rename_column(df_dict[ai_mode][f\"answer_{i+1}\"])\n",
    "        result_metrics = evaluate_results(df_dict[ai_mode][\"human_gt\"], df_dict[ai_mode][f\"answer_{i+1}\"])\n",
    "        \n",
    "        summary_results[ai_mode][\"accuracy\"].append(result_metrics[\"accuracy\"])\n",
    "        summary_results[ai_mode][\"macro_precision\"].append(result_metrics[\"macro_precision\"])\n",
    "        summary_results[ai_mode][\"weighted_precision\"].append(result_metrics[\"weighted_precision\"])\n",
    "        summary_results[ai_mode][\"macro_recall\"].append(result_metrics[\"macro_recall\"])\n",
    "        summary_results[ai_mode][\"weighted_recall\"].append(result_metrics[\"weighted_recall\"])\n",
    "        summary_results[ai_mode][\"macro_f1\"].append(result_metrics[\"macro_f1\"])\n",
    "        summary_results[ai_mode][\"weighted_f1\"].append(result_metrics[\"weighted_f1\"])\n",
    "\n",
    "    df_dict[ai_mode][\"majority_vote\"] = df_dict[ai_mode][[f\"answer_{idx+1}\" for idx in range(5)]].apply(lambda x: majority_vote(x), axis = 1)\n",
    "    \n",
    "    summary_df = df_dict[ai_mode][[\"human_gt\", \"majority_vote\"]]\n",
    "    \n",
    "    labels=[\"UA/MBA\", \"UNA\", \"ICI\"]\n",
    "    confusion_arr = confusion_matrix(\n",
    "        summary_df[\"human_gt\"], summary_df[\"majority_vote\"],labels=labels\n",
    "        )\n",
    "\n",
    "    summary_results[ai_mode] = pd.DataFrame(confusion_arr, columns=labels, index=labels)"
   ]
  },
  {
   "cell_type": "code",
   "execution_count": 29,
   "metadata": {},
   "outputs": [
    {
     "data": {
      "text/html": [
       "<div>\n",
       "<style scoped>\n",
       "    .dataframe tbody tr th:only-of-type {\n",
       "        vertical-align: middle;\n",
       "    }\n",
       "\n",
       "    .dataframe tbody tr th {\n",
       "        vertical-align: top;\n",
       "    }\n",
       "\n",
       "    .dataframe thead th {\n",
       "        text-align: right;\n",
       "    }\n",
       "</style>\n",
       "<table border=\"1\" class=\"dataframe\">\n",
       "  <thead>\n",
       "    <tr style=\"text-align: right;\">\n",
       "      <th></th>\n",
       "      <th>UA/MBA</th>\n",
       "      <th>UNA</th>\n",
       "      <th>ICI</th>\n",
       "    </tr>\n",
       "  </thead>\n",
       "  <tbody>\n",
       "    <tr>\n",
       "      <th>UA/MBA</th>\n",
       "      <td>30</td>\n",
       "      <td>4</td>\n",
       "      <td>0</td>\n",
       "    </tr>\n",
       "    <tr>\n",
       "      <th>UNA</th>\n",
       "      <td>19</td>\n",
       "      <td>7</td>\n",
       "      <td>0</td>\n",
       "    </tr>\n",
       "    <tr>\n",
       "      <th>ICI</th>\n",
       "      <td>10</td>\n",
       "      <td>0</td>\n",
       "      <td>0</td>\n",
       "    </tr>\n",
       "  </tbody>\n",
       "</table>\n",
       "</div>"
      ],
      "text/plain": [
       "        UA/MBA  UNA  ICI\n",
       "UA/MBA      30    4    0\n",
       "UNA         19    7    0\n",
       "ICI         10    0    0"
      ]
     },
     "execution_count": 29,
     "metadata": {},
     "output_type": "execute_result"
    }
   ],
   "source": [
    "summary_results[\"NoRAG\"]"
   ]
  },
  {
   "cell_type": "code",
   "execution_count": 30,
   "metadata": {},
   "outputs": [
    {
     "data": {
      "text/html": [
       "<div>\n",
       "<style scoped>\n",
       "    .dataframe tbody tr th:only-of-type {\n",
       "        vertical-align: middle;\n",
       "    }\n",
       "\n",
       "    .dataframe tbody tr th {\n",
       "        vertical-align: top;\n",
       "    }\n",
       "\n",
       "    .dataframe thead th {\n",
       "        text-align: right;\n",
       "    }\n",
       "</style>\n",
       "<table border=\"1\" class=\"dataframe\">\n",
       "  <thead>\n",
       "    <tr style=\"text-align: right;\">\n",
       "      <th></th>\n",
       "      <th>UA/MBA</th>\n",
       "      <th>UNA</th>\n",
       "      <th>ICI</th>\n",
       "    </tr>\n",
       "  </thead>\n",
       "  <tbody>\n",
       "    <tr>\n",
       "      <th>UA/MBA</th>\n",
       "      <td>32</td>\n",
       "      <td>2</td>\n",
       "      <td>0</td>\n",
       "    </tr>\n",
       "    <tr>\n",
       "      <th>UNA</th>\n",
       "      <td>17</td>\n",
       "      <td>9</td>\n",
       "      <td>0</td>\n",
       "    </tr>\n",
       "    <tr>\n",
       "      <th>ICI</th>\n",
       "      <td>8</td>\n",
       "      <td>1</td>\n",
       "      <td>1</td>\n",
       "    </tr>\n",
       "  </tbody>\n",
       "</table>\n",
       "</div>"
      ],
      "text/plain": [
       "        UA/MBA  UNA  ICI\n",
       "UA/MBA      32    2    0\n",
       "UNA         17    9    0\n",
       "ICI          8    1    1"
      ]
     },
     "execution_count": 30,
     "metadata": {},
     "output_type": "execute_result"
    }
   ],
   "source": [
    "summary_results[\"BaseRAG\"]"
   ]
  },
  {
   "cell_type": "code",
   "execution_count": 28,
   "metadata": {},
   "outputs": [
    {
     "data": {
      "text/html": [
       "<div>\n",
       "<style scoped>\n",
       "    .dataframe tbody tr th:only-of-type {\n",
       "        vertical-align: middle;\n",
       "    }\n",
       "\n",
       "    .dataframe tbody tr th {\n",
       "        vertical-align: top;\n",
       "    }\n",
       "\n",
       "    .dataframe thead th {\n",
       "        text-align: right;\n",
       "    }\n",
       "</style>\n",
       "<table border=\"1\" class=\"dataframe\">\n",
       "  <thead>\n",
       "    <tr style=\"text-align: right;\">\n",
       "      <th></th>\n",
       "      <th>UA/MBA</th>\n",
       "      <th>UNA</th>\n",
       "      <th>ICI</th>\n",
       "    </tr>\n",
       "  </thead>\n",
       "  <tbody>\n",
       "    <tr>\n",
       "      <th>UA/MBA</th>\n",
       "      <td>32</td>\n",
       "      <td>0</td>\n",
       "      <td>2</td>\n",
       "    </tr>\n",
       "    <tr>\n",
       "      <th>UNA</th>\n",
       "      <td>4</td>\n",
       "      <td>22</td>\n",
       "      <td>0</td>\n",
       "    </tr>\n",
       "    <tr>\n",
       "      <th>ICI</th>\n",
       "      <td>0</td>\n",
       "      <td>0</td>\n",
       "      <td>10</td>\n",
       "    </tr>\n",
       "  </tbody>\n",
       "</table>\n",
       "</div>"
      ],
      "text/plain": [
       "        UA/MBA  UNA  ICI\n",
       "UA/MBA      32    0    2\n",
       "UNA          4   22    0\n",
       "ICI          0    0   10"
      ]
     },
     "execution_count": 28,
     "metadata": {},
     "output_type": "execute_result"
    }
   ],
   "source": [
    "summary_results[\"CombinedRAG\"]"
   ]
  }
 ],
 "metadata": {
  "kernelspec": {
   "display_name": "venv",
   "language": "python",
   "name": "python3"
  },
  "language_info": {
   "codemirror_mode": {
    "name": "ipython",
    "version": 3
   },
   "file_extension": ".py",
   "mimetype": "text/x-python",
   "name": "python",
   "nbconvert_exporter": "python",
   "pygments_lexer": "ipython3",
   "version": "3.10.13"
  }
 },
 "nbformat": 4,
 "nbformat_minor": 2
}
